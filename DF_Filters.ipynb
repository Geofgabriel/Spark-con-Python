{
  "nbformat": 4,
  "nbformat_minor": 0,
  "metadata": {
    "colab": {
      "name": "DF_Filters.ipynb",
      "provenance": [],
      "collapsed_sections": [],
      "mount_file_id": "1eiDsVTzARVGeOJFdXWxFAYzXji4HuUsG",
      "authorship_tag": "ABX9TyOlieOde/2+/OyIu24rmJrr",
      "include_colab_link": true
    },
    "kernelspec": {
      "name": "python3",
      "display_name": "Python 3"
    },
    "language_info": {
      "name": "python"
    }
  },
  "cells": [
    {
      "cell_type": "markdown",
      "metadata": {
        "id": "view-in-github",
        "colab_type": "text"
      },
      "source": [
        "<a href=\"https://colab.research.google.com/github/Geofgabriel/Spark-con-Python/blob/main/DF_Filters.ipynb\" target=\"_parent\"><img src=\"https://colab.research.google.com/assets/colab-badge.svg\" alt=\"Open In Colab\"/></a>"
      ]
    },
    {
      "cell_type": "code",
      "metadata": {
        "colab": {
          "base_uri": "https://localhost:8080/"
        },
        "id": "5bdcaNU27EyF",
        "outputId": "2380f3b1-1b32-4b0b-9ada-70229d31a3b1"
      },
      "source": [
        "!pip install pyspark"
      ],
      "execution_count": 1,
      "outputs": [
        {
          "output_type": "stream",
          "text": [
            "Collecting pyspark\n",
            "  Downloading pyspark-3.1.2.tar.gz (212.4 MB)\n",
            "\u001b[K     |████████████████████████████████| 212.4 MB 68 kB/s \n",
            "\u001b[?25hCollecting py4j==0.10.9\n",
            "  Downloading py4j-0.10.9-py2.py3-none-any.whl (198 kB)\n",
            "\u001b[K     |████████████████████████████████| 198 kB 43.5 MB/s \n",
            "\u001b[?25hBuilding wheels for collected packages: pyspark\n",
            "  Building wheel for pyspark (setup.py) ... \u001b[?25l\u001b[?25hdone\n",
            "  Created wheel for pyspark: filename=pyspark-3.1.2-py2.py3-none-any.whl size=212880768 sha256=1ae48319bcfdddb383f39fe6ebaec7f0f77be43323d03e3846b8707eac6f4c39\n",
            "  Stored in directory: /root/.cache/pip/wheels/a5/0a/c1/9561f6fecb759579a7d863dcd846daaa95f598744e71b02c77\n",
            "Successfully built pyspark\n",
            "Installing collected packages: py4j, pyspark\n",
            "Successfully installed py4j-0.10.9 pyspark-3.1.2\n"
          ],
          "name": "stdout"
        }
      ]
    },
    {
      "cell_type": "code",
      "metadata": {
        "id": "UEmGXrBg8Nqo"
      },
      "source": [
        "from pyspark.sql import SparkSession  \n",
        "spark = SparkSession.builder.appName('dataframe').getOrCreate()"
      ],
      "execution_count": 2,
      "outputs": []
    },
    {
      "cell_type": "code",
      "metadata": {
        "id": "9dqnc4K68Ntq"
      },
      "source": [
        "ruta = \"/content/drive/MyDrive/Colab Notebooks/FreeCodeCamp/test1.csv\"\n",
        "df_pyspark = spark.read.csv(ruta,header=True,inferSchema=True)"
      ],
      "execution_count": 3,
      "outputs": []
    },
    {
      "cell_type": "code",
      "metadata": {
        "colab": {
          "base_uri": "https://localhost:8080/"
        },
        "id": "2opBonkl8Nwc",
        "outputId": "7b5ddc23-e57d-46c6-8682-909bc284022f"
      },
      "source": [
        "df_pyspark.show()"
      ],
      "execution_count": 4,
      "outputs": [
        {
          "output_type": "stream",
          "text": [
            "+---------+---+----------+------+\n",
            "|     Name|age|Experience|Salary|\n",
            "+---------+---+----------+------+\n",
            "|    Krish| 31|        10| 30000|\n",
            "|Sudhanshu| 30|         8| 25000|\n",
            "|    Sunny| 29|         4| 20000|\n",
            "|     Paul| 24|         3| 20000|\n",
            "|   Harsha| 21|         1| 15000|\n",
            "|  Shubham| 23|         2| 18000|\n",
            "+---------+---+----------+------+\n",
            "\n"
          ],
          "name": "stdout"
        }
      ]
    },
    {
      "cell_type": "code",
      "metadata": {
        "colab": {
          "base_uri": "https://localhost:8080/"
        },
        "id": "gtJf2rTE87Om",
        "outputId": "be7ca60e-01ae-4caa-9189-324739fbf763"
      },
      "source": [
        "#filtrado\n",
        "# salario igual o abajo de 20000\n",
        "df_pyspark.filter(\"Salary<=20000\").show() "
      ],
      "execution_count": 6,
      "outputs": [
        {
          "output_type": "stream",
          "text": [
            "+-------+---+----------+------+\n",
            "|   Name|age|Experience|Salary|\n",
            "+-------+---+----------+------+\n",
            "|  Sunny| 29|         4| 20000|\n",
            "|   Paul| 24|         3| 20000|\n",
            "| Harsha| 21|         1| 15000|\n",
            "|Shubham| 23|         2| 18000|\n",
            "+-------+---+----------+------+\n",
            "\n"
          ],
          "name": "stdout"
        }
      ]
    },
    {
      "cell_type": "code",
      "metadata": {
        "colab": {
          "base_uri": "https://localhost:8080/"
        },
        "id": "bqE4Xsw98Nz3",
        "outputId": "1895e30a-b5f0-4c04-97ca-0d19e2fdc0af"
      },
      "source": [
        "# supongamos que solo queremos ver los nombres y la edad para algun \n",
        "# otro tipo de estudio\n",
        "df_pyspark.filter(\"Salary<=20000\").select(['Name','Age']).show()"
      ],
      "execution_count": 8,
      "outputs": [
        {
          "output_type": "stream",
          "text": [
            "+-------+---+\n",
            "|   Name|Age|\n",
            "+-------+---+\n",
            "|  Sunny| 29|\n",
            "|   Paul| 24|\n",
            "| Harsha| 21|\n",
            "|Shubham| 23|\n",
            "+-------+---+\n",
            "\n"
          ],
          "name": "stdout"
        }
      ]
    },
    {
      "cell_type": "code",
      "metadata": {
        "colab": {
          "base_uri": "https://localhost:8080/"
        },
        "id": "7uQW5Aj28OE1",
        "outputId": "a4d6f766-4ee6-476e-9123-537e20101b48"
      },
      "source": [
        "#observar que tb se podría hacer\n",
        "\n",
        "df_pyspark.filter(df_pyspark['Salary']<=20000).show()"
      ],
      "execution_count": 9,
      "outputs": [
        {
          "output_type": "stream",
          "text": [
            "+-------+---+----------+------+\n",
            "|   Name|age|Experience|Salary|\n",
            "+-------+---+----------+------+\n",
            "|  Sunny| 29|         4| 20000|\n",
            "|   Paul| 24|         3| 20000|\n",
            "| Harsha| 21|         1| 15000|\n",
            "|Shubham| 23|         2| 18000|\n",
            "+-------+---+----------+------+\n",
            "\n"
          ],
          "name": "stdout"
        }
      ]
    },
    {
      "cell_type": "code",
      "metadata": {
        "colab": {
          "base_uri": "https://localhost:8080/"
        },
        "id": "VCD5S4pK_Pxn",
        "outputId": "e2d6c8bb-c33d-4b30-db43-a8c96c67d9e8"
      },
      "source": [
        "#una forma de obtener lo opuesto es con el ~\n",
        "\n",
        "df_pyspark.filter(~(df_pyspark['Salary']<=20000)).show()"
      ],
      "execution_count": 12,
      "outputs": [
        {
          "output_type": "stream",
          "text": [
            "+---------+---+----------+------+\n",
            "|     Name|age|Experience|Salary|\n",
            "+---------+---+----------+------+\n",
            "|    Krish| 31|        10| 30000|\n",
            "|Sudhanshu| 30|         8| 25000|\n",
            "+---------+---+----------+------+\n",
            "\n"
          ],
          "name": "stdout"
        }
      ]
    },
    {
      "cell_type": "markdown",
      "metadata": {
        "id": "BW5J-Uuh_aBL"
      },
      "source": [
        "Ahora...tb se pueden poner varias condiciones:"
      ]
    },
    {
      "cell_type": "code",
      "metadata": {
        "colab": {
          "base_uri": "https://localhost:8080/"
        },
        "id": "kQawPXIm8ONL",
        "outputId": "1bc8c941-4cbc-40b4-82da-f4589f6a7bed"
      },
      "source": [
        "df_pyspark.filter((df_pyspark['Salary']<=20000)&\n",
        "                  (df_pyspark['age']>=25)).show()"
      ],
      "execution_count": 10,
      "outputs": [
        {
          "output_type": "stream",
          "text": [
            "+-----+---+----------+------+\n",
            "| Name|age|Experience|Salary|\n",
            "+-----+---+----------+------+\n",
            "|Sunny| 29|         4| 20000|\n",
            "+-----+---+----------+------+\n",
            "\n"
          ],
          "name": "stdout"
        }
      ]
    },
    {
      "cell_type": "code",
      "metadata": {
        "colab": {
          "base_uri": "https://localhost:8080/"
        },
        "id": "RJr2mWnv8OQy",
        "outputId": "236ebcea-90c3-4c28-d4c5-004da84660b4"
      },
      "source": [
        "#o si quiero un rango de salarios:\n",
        "df_pyspark.filter((df_pyspark['Salary']<=28000)&\n",
        "                  (df_pyspark['Salary']>=20000)).show()"
      ],
      "execution_count": 11,
      "outputs": [
        {
          "output_type": "stream",
          "text": [
            "+---------+---+----------+------+\n",
            "|     Name|age|Experience|Salary|\n",
            "+---------+---+----------+------+\n",
            "|Sudhanshu| 30|         8| 25000|\n",
            "|    Sunny| 29|         4| 20000|\n",
            "|     Paul| 24|         3| 20000|\n",
            "+---------+---+----------+------+\n",
            "\n"
          ],
          "name": "stdout"
        }
      ]
    }
  ]
}