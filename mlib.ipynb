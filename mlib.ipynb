{
  "nbformat": 4,
  "nbformat_minor": 0,
  "metadata": {
    "colab": {
      "name": "mlib.ipynb",
      "provenance": [],
      "collapsed_sections": [],
      "mount_file_id": "1QZCYxUNIzv59DOvBeg7WciQ0lgrfeVj5",
      "authorship_tag": "ABX9TyOVaEMPBQL4nthC3b+Vwnvq",
      "include_colab_link": true
    },
    "kernelspec": {
      "name": "python3",
      "display_name": "Python 3"
    },
    "language_info": {
      "name": "python"
    }
  },
  "cells": [
    {
      "cell_type": "markdown",
      "metadata": {
        "id": "view-in-github",
        "colab_type": "text"
      },
      "source": [
        "<a href=\"https://colab.research.google.com/github/Geofgabriel/Spark-con-Python/blob/main/mlib.ipynb\" target=\"_parent\"><img src=\"https://colab.research.google.com/assets/colab-badge.svg\" alt=\"Open In Colab\"/></a>"
      ]
    },
    {
      "cell_type": "markdown",
      "metadata": {
        "id": "r1c7YOJS8KlU"
      },
      "source": [
        "Comenzando con mlib y pyspark. "
      ]
    },
    {
      "cell_type": "code",
      "metadata": {
        "colab": {
          "base_uri": "https://localhost:8080/"
        },
        "id": "Jb34gD7nzdWo",
        "outputId": "d7b43fb6-4100-41d1-999c-c5965ab687bd"
      },
      "source": [
        "!pip install pyspark"
      ],
      "execution_count": 1,
      "outputs": [
        {
          "output_type": "stream",
          "text": [
            "Requirement already satisfied: pyspark in /usr/local/lib/python3.7/dist-packages (3.1.2)\n",
            "Requirement already satisfied: py4j==0.10.9 in /usr/local/lib/python3.7/dist-packages (from pyspark) (0.10.9)\n"
          ],
          "name": "stdout"
        }
      ]
    },
    {
      "cell_type": "code",
      "metadata": {
        "id": "huaAxP8Iz9sy"
      },
      "source": [
        "from pyspark.sql import SparkSession\n",
        "spark = SparkSession.builder.appName('1st mlib project').getOrCreate()"
      ],
      "execution_count": 2,
      "outputs": []
    },
    {
      "cell_type": "code",
      "metadata": {
        "id": "CBHph5By0SAH"
      },
      "source": [
        "ruta = \"/content/drive/MyDrive/Colab Notebooks/FreeCodeCamp/test1.csv\"\n",
        "t = spark.read.csv(ruta,header=True,inferSchema=True)"
      ],
      "execution_count": 3,
      "outputs": []
    },
    {
      "cell_type": "code",
      "metadata": {
        "colab": {
          "base_uri": "https://localhost:8080/"
        },
        "id": "-LTKzIEH0_fa",
        "outputId": "f1a174a8-ab83-4553-84d2-99265914b63c"
      },
      "source": [
        "t.show()"
      ],
      "execution_count": 4,
      "outputs": [
        {
          "output_type": "stream",
          "text": [
            "+---------+---+----------+------+\n",
            "|     Name|age|Experience|Salary|\n",
            "+---------+---+----------+------+\n",
            "|    Krish| 31|        10| 30000|\n",
            "|Sudhanshu| 30|         8| 25000|\n",
            "|    Sunny| 29|         4| 20000|\n",
            "|     Paul| 24|         3| 20000|\n",
            "|   Harsha| 21|         1| 15000|\n",
            "|  Shubham| 23|         2| 18000|\n",
            "+---------+---+----------+------+\n",
            "\n"
          ],
          "name": "stdout"
        }
      ]
    },
    {
      "cell_type": "code",
      "metadata": {
        "colab": {
          "base_uri": "https://localhost:8080/"
        },
        "id": "SM8zNqNH1BXM",
        "outputId": "6def28be-f62c-42a6-bccb-4f23d43993bd"
      },
      "source": [
        "t.printSchema()"
      ],
      "execution_count": 5,
      "outputs": [
        {
          "output_type": "stream",
          "text": [
            "root\n",
            " |-- Name: string (nullable = true)\n",
            " |-- age: integer (nullable = true)\n",
            " |-- Experience: integer (nullable = true)\n",
            " |-- Salary: integer (nullable = true)\n",
            "\n"
          ],
          "name": "stdout"
        }
      ]
    },
    {
      "cell_type": "code",
      "metadata": {
        "colab": {
          "base_uri": "https://localhost:8080/"
        },
        "id": "VZ6N9gHy1P_z",
        "outputId": "bba959de-8203-420d-94de-e59beb0c76b8"
      },
      "source": [
        "t.columns"
      ],
      "execution_count": 6,
      "outputs": [
        {
          "output_type": "execute_result",
          "data": {
            "text/plain": [
              "['Name', 'age', 'Experience', 'Salary']"
            ]
          },
          "metadata": {
            "tags": []
          },
          "execution_count": 6
        }
      ]
    },
    {
      "cell_type": "code",
      "metadata": {
        "id": "GGxrAs9z1QG1"
      },
      "source": [
        "#observar que se trabaja un poco distinto con spark. Ahora vamos a buscar\n",
        "#agrupar los features que queremos usar para predecir el salario\n",
        "\n",
        "# para esto usamos VectorAssembler"
      ],
      "execution_count": 7,
      "outputs": []
    },
    {
      "cell_type": "code",
      "metadata": {
        "id": "OHobQxF81QNp"
      },
      "source": [
        "from pyspark.ml.feature import VectorAssembler\n",
        "featuresassembler = VectorAssembler(inputCols=[\"age\",\"Experience\"],\n",
        "                                    outputCol=\"independent features\")"
      ],
      "execution_count": 8,
      "outputs": []
    },
    {
      "cell_type": "code",
      "metadata": {
        "colab": {
          "base_uri": "https://localhost:8080/"
        },
        "id": "tsTkMpP81QhZ",
        "outputId": "0af78824-6616-40de-991b-e2ac8bf7b1b2"
      },
      "source": [
        "output = featuresassembler.transform(t)\n",
        "output.show()"
      ],
      "execution_count": 9,
      "outputs": [
        {
          "output_type": "stream",
          "text": [
            "+---------+---+----------+------+--------------------+\n",
            "|     Name|age|Experience|Salary|independent features|\n",
            "+---------+---+----------+------+--------------------+\n",
            "|    Krish| 31|        10| 30000|         [31.0,10.0]|\n",
            "|Sudhanshu| 30|         8| 25000|          [30.0,8.0]|\n",
            "|    Sunny| 29|         4| 20000|          [29.0,4.0]|\n",
            "|     Paul| 24|         3| 20000|          [24.0,3.0]|\n",
            "|   Harsha| 21|         1| 15000|          [21.0,1.0]|\n",
            "|  Shubham| 23|         2| 18000|          [23.0,2.0]|\n",
            "+---------+---+----------+------+--------------------+\n",
            "\n"
          ],
          "name": "stdout"
        }
      ]
    },
    {
      "cell_type": "code",
      "metadata": {
        "id": "bzuTHmRH3GAG"
      },
      "source": [
        "finalized_data = output.select(\"independent features\",\"Salary\")"
      ],
      "execution_count": 10,
      "outputs": []
    },
    {
      "cell_type": "code",
      "metadata": {
        "colab": {
          "base_uri": "https://localhost:8080/"
        },
        "id": "9XHMBsEx3GJX",
        "outputId": "f56d096e-0b89-44a3-ec99-d5e66b7f24d6"
      },
      "source": [
        "finalized_data.show()"
      ],
      "execution_count": 11,
      "outputs": [
        {
          "output_type": "stream",
          "text": [
            "+--------------------+------+\n",
            "|independent features|Salary|\n",
            "+--------------------+------+\n",
            "|         [31.0,10.0]| 30000|\n",
            "|          [30.0,8.0]| 25000|\n",
            "|          [29.0,4.0]| 20000|\n",
            "|          [24.0,3.0]| 20000|\n",
            "|          [21.0,1.0]| 15000|\n",
            "|          [23.0,2.0]| 18000|\n",
            "+--------------------+------+\n",
            "\n"
          ],
          "name": "stdout"
        }
      ]
    },
    {
      "cell_type": "code",
      "metadata": {
        "id": "LzC4GkuZ5aJu"
      },
      "source": [
        ""
      ],
      "execution_count": 11,
      "outputs": []
    },
    {
      "cell_type": "code",
      "metadata": {
        "colab": {
          "base_uri": "https://localhost:8080/"
        },
        "id": "7_Kc7-Qj3GSE",
        "outputId": "67a49cbd-de99-4d3b-bcc9-5accf9e8a222"
      },
      "source": [
        "from pyspark.ml.regression import LinearRegression\n",
        "# separamos en conjunto de entrenamiento y de prueva\n",
        "\n",
        "train_d,test_d = finalized_data.randomSplit([0.75,0.25])#75% y 25%\n",
        "train_d.show()\n",
        "#test_d.show()"
      ],
      "execution_count": 18,
      "outputs": [
        {
          "output_type": "stream",
          "text": [
            "+--------------------+------+\n",
            "|independent features|Salary|\n",
            "+--------------------+------+\n",
            "|          [21.0,1.0]| 15000|\n",
            "|          [24.0,3.0]| 20000|\n",
            "|          [29.0,4.0]| 20000|\n",
            "+--------------------+------+\n",
            "\n"
          ],
          "name": "stdout"
        }
      ]
    },
    {
      "cell_type": "code",
      "metadata": {
        "id": "61Ejeia65AnK"
      },
      "source": [
        "regressor = LinearRegression(featuresCol='independent features',labelCol='Salary')\n",
        "regressor = regressor.fit(train_d)"
      ],
      "execution_count": 19,
      "outputs": []
    },
    {
      "cell_type": "code",
      "metadata": {
        "colab": {
          "base_uri": "https://localhost:8080/"
        },
        "id": "LhLuUzKE3GXr",
        "outputId": "193ccc09-6f73-4417-b274-5b974a126089"
      },
      "source": [
        "# podemos ver los coeficientes:\n",
        "regressor.coefficients"
      ],
      "execution_count": 20,
      "outputs": [
        {
          "output_type": "execute_result",
          "data": {
            "text/plain": [
              "DenseVector([-714.2857, 3571.4286])"
            ]
          },
          "metadata": {
            "tags": []
          },
          "execution_count": 20
        }
      ]
    },
    {
      "cell_type": "code",
      "metadata": {
        "colab": {
          "base_uri": "https://localhost:8080/"
        },
        "id": "tBEqARPy3Gdf",
        "outputId": "cef7fa57-e40e-48b3-a244-d35e68c3cbb6"
      },
      "source": [
        "regressor.intercept"
      ],
      "execution_count": 21,
      "outputs": [
        {
          "output_type": "execute_result",
          "data": {
            "text/plain": [
              "26428.57142857082"
            ]
          },
          "metadata": {
            "tags": []
          },
          "execution_count": 21
        }
      ]
    },
    {
      "cell_type": "code",
      "metadata": {
        "id": "9KEoyRKW7AqO"
      },
      "source": [
        "# y ahora probamos con el conjuto de prueba\n",
        "pred_res = regressor.evaluate(test_d)"
      ],
      "execution_count": 22,
      "outputs": []
    },
    {
      "cell_type": "code",
      "metadata": {
        "colab": {
          "base_uri": "https://localhost:8080/"
        },
        "id": "w5CJ8ydi7Lb3",
        "outputId": "a6f78142-70c8-4b48-9e75-6758c769fe24"
      },
      "source": [
        "# y podemos ver la predicción\n",
        "pred_res.predictions.show()"
      ],
      "execution_count": 23,
      "outputs": [
        {
          "output_type": "stream",
          "text": [
            "+--------------------+------+-----------------+\n",
            "|independent features|Salary|       prediction|\n",
            "+--------------------+------+-----------------+\n",
            "|          [23.0,2.0]| 18000|17142.85714285713|\n",
            "|          [30.0,8.0]| 25000| 33571.4285714283|\n",
            "|         [31.0,10.0]| 30000| 39999.9999999996|\n",
            "+--------------------+------+-----------------+\n",
            "\n"
          ],
          "name": "stdout"
        }
      ]
    },
    {
      "cell_type": "markdown",
      "metadata": {
        "id": "ke2oLC1i7X8k"
      },
      "source": [
        "podemos ver que dá bastante mal... :(. Calculemos los errores:"
      ]
    },
    {
      "cell_type": "code",
      "metadata": {
        "colab": {
          "base_uri": "https://localhost:8080/"
        },
        "id": "h7Hfq_D37WAg",
        "outputId": "854379dc-a2e5-42cf-c6d7-14715676b518"
      },
      "source": [
        "pred_res.meanAbsoluteError, pred_res.meanSquaredError"
      ],
      "execution_count": 24,
      "outputs": [
        {
          "output_type": "execute_result",
          "data": {
            "text/plain": [
              "(6476.190476190258, 58068027.21088016)"
            ]
          },
          "metadata": {
            "tags": []
          },
          "execution_count": 24
        }
      ]
    },
    {
      "cell_type": "markdown",
      "metadata": {
        "id": "5kfNO6n_7-SL"
      },
      "source": [
        "Just in case...esto es un ejemplo básico con mlib para una regresión lineal en un caso simple. "
      ]
    }
  ]
}